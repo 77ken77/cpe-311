{
 "cells": [
  {
   "cell_type": "markdown",
   "id": "f1c6ec95",
   "metadata": {
    "id": "f1c6ec95"
   },
   "source": [
    "# Hands-on Activity 1.2 : Dynamic Programming"
   ]
  },
  {
   "cell_type": "markdown",
   "id": "56dacba1",
   "metadata": {
    "id": "56dacba1"
   },
   "source": [
    "#### Objective(s):\n",
    "\n",
    "This activity aims to demonstrate how to use dynamic programming to solve problems."
   ]
  },
  {
   "cell_type": "markdown",
   "id": "e51f84e3",
   "metadata": {
    "id": "e51f84e3"
   },
   "source": [
    "#### Intended Learning Outcomes (ILOs):\n",
    "* Differentiate recursion method from dynamic programming to solve problems.\n",
    "* Demonstrate how to  solve real-world problems using dynamic programming\n"
   ]
  },
  {
   "cell_type": "markdown",
   "id": "39047b1a",
   "metadata": {
    "id": "39047b1a"
   },
   "source": [
    "#### Resources:\n",
    "* Jupyter Notebook\n"
   ]
  },
  {
   "cell_type": "markdown",
   "id": "cb5360c0",
   "metadata": {
    "id": "cb5360c0"
   },
   "source": [
    "#### Procedures:"
   ]
  },
  {
   "cell_type": "markdown",
   "id": "206a914c",
   "metadata": {
    "id": "206a914c"
   },
   "source": [
    "1. Create a code that demonstrate how to use recursion method to solve problem"
   ]
  },
  {
   "cell_type": "code",
   "execution_count": 1,
   "id": "KaLzl_0B_wx6",
   "metadata": {
    "id": "KaLzl_0B_wx6"
   },
   "outputs": [
    {
     "name": "stdout",
     "output_type": "stream",
     "text": [
      "Fibonacci(10) is: 55\n"
     ]
    }
   ],
   "source": [
    "def fibonacci(n):\n",
    "    if n <= 1:\n",
    "        return n\n",
    "    res=fibonacci(n-1)+fibonacci(n-2)\n",
    "    return res\n",
    "x=10\n",
    "print(f\"Fibonacci({x}) is:\",fibonacci(x))"
   ]
  },
  {
   "cell_type": "code",
   "execution_count": 2,
   "id": "19a3c48a-dae8-4518-b5ea-4d5fc353f594",
   "metadata": {
    "tags": []
   },
   "outputs": [
    {
     "name": "stdout",
     "output_type": "stream",
     "text": [
      "Calculating fibonacci(10)\n",
      "Calculating fibonacci(9)\n",
      "Calculating fibonacci(8)\n",
      "Calculating fibonacci(7)\n",
      "Calculating fibonacci(6)\n",
      "Calculating fibonacci(5)\n",
      "Calculating fibonacci(4)\n",
      "Calculating fibonacci(3)\n",
      "Calculating fibonacci(2)\n",
      "Result of fibonacci(2) = 1\n",
      "Result of fibonacci(3) = 2\n",
      "Calculating fibonacci(2)\n",
      "Result of fibonacci(2) = 1\n",
      "Result of fibonacci(4) = 3\n",
      "Calculating fibonacci(3)\n",
      "Calculating fibonacci(2)\n",
      "Result of fibonacci(2) = 1\n",
      "Result of fibonacci(3) = 2\n",
      "Result of fibonacci(5) = 5\n",
      "Calculating fibonacci(4)\n",
      "Calculating fibonacci(3)\n",
      "Calculating fibonacci(2)\n",
      "Result of fibonacci(2) = 1\n",
      "Result of fibonacci(3) = 2\n",
      "Calculating fibonacci(2)\n",
      "Result of fibonacci(2) = 1\n",
      "Result of fibonacci(4) = 3\n",
      "Result of fibonacci(6) = 8\n",
      "Calculating fibonacci(5)\n",
      "Calculating fibonacci(4)\n",
      "Calculating fibonacci(3)\n",
      "Calculating fibonacci(2)\n",
      "Result of fibonacci(2) = 1\n",
      "Result of fibonacci(3) = 2\n",
      "Calculating fibonacci(2)\n",
      "Result of fibonacci(2) = 1\n",
      "Result of fibonacci(4) = 3\n",
      "Calculating fibonacci(3)\n",
      "Calculating fibonacci(2)\n",
      "Result of fibonacci(2) = 1\n",
      "Result of fibonacci(3) = 2\n",
      "Result of fibonacci(5) = 5\n",
      "Result of fibonacci(7) = 13\n",
      "Calculating fibonacci(6)\n",
      "Calculating fibonacci(5)\n",
      "Calculating fibonacci(4)\n",
      "Calculating fibonacci(3)\n",
      "Calculating fibonacci(2)\n",
      "Result of fibonacci(2) = 1\n",
      "Result of fibonacci(3) = 2\n",
      "Calculating fibonacci(2)\n",
      "Result of fibonacci(2) = 1\n",
      "Result of fibonacci(4) = 3\n",
      "Calculating fibonacci(3)\n",
      "Calculating fibonacci(2)\n",
      "Result of fibonacci(2) = 1\n",
      "Result of fibonacci(3) = 2\n",
      "Result of fibonacci(5) = 5\n",
      "Calculating fibonacci(4)\n",
      "Calculating fibonacci(3)\n",
      "Calculating fibonacci(2)\n",
      "Result of fibonacci(2) = 1\n",
      "Result of fibonacci(3) = 2\n",
      "Calculating fibonacci(2)\n",
      "Result of fibonacci(2) = 1\n",
      "Result of fibonacci(4) = 3\n",
      "Result of fibonacci(6) = 8\n",
      "Result of fibonacci(8) = 21\n",
      "Calculating fibonacci(7)\n",
      "Calculating fibonacci(6)\n",
      "Calculating fibonacci(5)\n",
      "Calculating fibonacci(4)\n",
      "Calculating fibonacci(3)\n",
      "Calculating fibonacci(2)\n",
      "Result of fibonacci(2) = 1\n",
      "Result of fibonacci(3) = 2\n",
      "Calculating fibonacci(2)\n",
      "Result of fibonacci(2) = 1\n",
      "Result of fibonacci(4) = 3\n",
      "Calculating fibonacci(3)\n",
      "Calculating fibonacci(2)\n",
      "Result of fibonacci(2) = 1\n",
      "Result of fibonacci(3) = 2\n",
      "Result of fibonacci(5) = 5\n",
      "Calculating fibonacci(4)\n",
      "Calculating fibonacci(3)\n",
      "Calculating fibonacci(2)\n",
      "Result of fibonacci(2) = 1\n",
      "Result of fibonacci(3) = 2\n",
      "Calculating fibonacci(2)\n",
      "Result of fibonacci(2) = 1\n",
      "Result of fibonacci(4) = 3\n",
      "Result of fibonacci(6) = 8\n",
      "Calculating fibonacci(5)\n",
      "Calculating fibonacci(4)\n",
      "Calculating fibonacci(3)\n",
      "Calculating fibonacci(2)\n",
      "Result of fibonacci(2) = 1\n",
      "Result of fibonacci(3) = 2\n",
      "Calculating fibonacci(2)\n",
      "Result of fibonacci(2) = 1\n",
      "Result of fibonacci(4) = 3\n",
      "Calculating fibonacci(3)\n",
      "Calculating fibonacci(2)\n",
      "Result of fibonacci(2) = 1\n",
      "Result of fibonacci(3) = 2\n",
      "Result of fibonacci(5) = 5\n",
      "Result of fibonacci(7) = 13\n",
      "Result of fibonacci(9) = 34\n",
      "Calculating fibonacci(8)\n",
      "Calculating fibonacci(7)\n",
      "Calculating fibonacci(6)\n",
      "Calculating fibonacci(5)\n",
      "Calculating fibonacci(4)\n",
      "Calculating fibonacci(3)\n",
      "Calculating fibonacci(2)\n",
      "Result of fibonacci(2) = 1\n",
      "Result of fibonacci(3) = 2\n",
      "Calculating fibonacci(2)\n",
      "Result of fibonacci(2) = 1\n",
      "Result of fibonacci(4) = 3\n",
      "Calculating fibonacci(3)\n",
      "Calculating fibonacci(2)\n",
      "Result of fibonacci(2) = 1\n",
      "Result of fibonacci(3) = 2\n",
      "Result of fibonacci(5) = 5\n",
      "Calculating fibonacci(4)\n",
      "Calculating fibonacci(3)\n",
      "Calculating fibonacci(2)\n",
      "Result of fibonacci(2) = 1\n",
      "Result of fibonacci(3) = 2\n",
      "Calculating fibonacci(2)\n",
      "Result of fibonacci(2) = 1\n",
      "Result of fibonacci(4) = 3\n",
      "Result of fibonacci(6) = 8\n",
      "Calculating fibonacci(5)\n",
      "Calculating fibonacci(4)\n",
      "Calculating fibonacci(3)\n",
      "Calculating fibonacci(2)\n",
      "Result of fibonacci(2) = 1\n",
      "Result of fibonacci(3) = 2\n",
      "Calculating fibonacci(2)\n",
      "Result of fibonacci(2) = 1\n",
      "Result of fibonacci(4) = 3\n",
      "Calculating fibonacci(3)\n",
      "Calculating fibonacci(2)\n",
      "Result of fibonacci(2) = 1\n",
      "Result of fibonacci(3) = 2\n",
      "Result of fibonacci(5) = 5\n",
      "Result of fibonacci(7) = 13\n",
      "Calculating fibonacci(6)\n",
      "Calculating fibonacci(5)\n",
      "Calculating fibonacci(4)\n",
      "Calculating fibonacci(3)\n",
      "Calculating fibonacci(2)\n",
      "Result of fibonacci(2) = 1\n",
      "Result of fibonacci(3) = 2\n",
      "Calculating fibonacci(2)\n",
      "Result of fibonacci(2) = 1\n",
      "Result of fibonacci(4) = 3\n",
      "Calculating fibonacci(3)\n",
      "Calculating fibonacci(2)\n",
      "Result of fibonacci(2) = 1\n",
      "Result of fibonacci(3) = 2\n",
      "Result of fibonacci(5) = 5\n",
      "Calculating fibonacci(4)\n",
      "Calculating fibonacci(3)\n",
      "Calculating fibonacci(2)\n",
      "Result of fibonacci(2) = 1\n",
      "Result of fibonacci(3) = 2\n",
      "Calculating fibonacci(2)\n",
      "Result of fibonacci(2) = 1\n",
      "Result of fibonacci(4) = 3\n",
      "Result of fibonacci(6) = 8\n",
      "Result of fibonacci(8) = 21\n",
      "Result of fibonacci(10) = 55\n",
      "Final result: fibonacci(10) = 55\n"
     ]
    }
   ],
   "source": [
    "import time\n",
    "\n",
    "def pure_recursive_fibonacci(n):\n",
    "    if n <= 1:\n",
    "        return n\n",
    "    print(f\"Calculating fibonacci({n})\")\n",
    "    time.sleep(0.5)\n",
    "    result = pure_recursive_fibonacci(n - 1) + pure_recursive_fibonacci(n - 2)\n",
    "    print(f\"Result of fibonacci({n}) = {result}\")\n",
    "    return result\n",
    "\n",
    "x = 10\n",
    "result = pure_recursive_fibonacci(x)\n",
    "print(f\"Final result: fibonacci({x}) = {result}\")\n"
   ]
  },
  {
   "cell_type": "markdown",
   "id": "5744a876",
   "metadata": {
    "id": "5744a876"
   },
   "source": [
    "2. Create a program codes that demonstrate how to use dynamic programming to solve the same problem "
   ]
  },
  {
   "cell_type": "code",
   "execution_count": 3,
   "id": "6OFkg7dl_xiS",
   "metadata": {
    "id": "6OFkg7dl_xiS"
   },
   "outputs": [
    {
     "name": "stdout",
     "output_type": "stream",
     "text": [
      "Fibonacci(10) is: 55\n"
     ]
    }
   ],
   "source": [
    "memo = {}\n",
    "\n",
    "def fibonacci(n):\n",
    "    if n <= 1:\n",
    "        return n\n",
    "    if n not in memo:\n",
    "        memo[n] = fibonacci(n - 1) + fibonacci(n - 2)\n",
    "    return memo[n]\n",
    "\n",
    "x = 10\n",
    "result = fibonacci(x)\n",
    "print(f\"Fibonacci({x}) is:\",fibonacci(x))\n"
   ]
  },
  {
   "cell_type": "code",
   "execution_count": 5,
   "id": "fb624c8c-0bc6-4fe1-8567-08cdcf4fa446",
   "metadata": {
    "tags": []
   },
   "outputs": [
    {
     "name": "stdout",
     "output_type": "stream",
     "text": [
      "Calculating fibonacci(10)\n",
      "Calculating fibonacci(9)\n",
      "Calculating fibonacci(8)\n",
      "Calculating fibonacci(7)\n",
      "Calculating fibonacci(6)\n",
      "Calculating fibonacci(5)\n",
      "Calculating fibonacci(4)\n",
      "Calculating fibonacci(3)\n",
      "Calculating fibonacci(2)\n",
      "Computed fibonacci(2) = 1 and stored in memo.\n",
      "Computed fibonacci(3) = 2 and stored in memo.\n",
      "Retrieved fibonacci(2) = 1 from memo.\n",
      "Computed fibonacci(4) = 3 and stored in memo.\n",
      "Retrieved fibonacci(3) = 2 from memo.\n",
      "Computed fibonacci(5) = 5 and stored in memo.\n",
      "Retrieved fibonacci(4) = 3 from memo.\n",
      "Computed fibonacci(6) = 8 and stored in memo.\n",
      "Retrieved fibonacci(5) = 5 from memo.\n",
      "Computed fibonacci(7) = 13 and stored in memo.\n",
      "Retrieved fibonacci(6) = 8 from memo.\n",
      "Computed fibonacci(8) = 21 and stored in memo.\n",
      "Retrieved fibonacci(7) = 13 from memo.\n",
      "Computed fibonacci(9) = 34 and stored in memo.\n",
      "Retrieved fibonacci(8) = 21 from memo.\n",
      "Computed fibonacci(10) = 55 and stored in memo.\n",
      "Final result: fibonacci(10) = 55\n"
     ]
    }
   ],
   "source": [
    "import time\n",
    "\n",
    "memo = {}\n",
    "\n",
    "def memo_fibonacci(n):\n",
    "    if n <= 1:\n",
    "        return n\n",
    "    if n not in memo:\n",
    "        print(f\"Calculating fibonacci({n})\")\n",
    "        time.sleep(0.2)\n",
    "        memo[n] = memo_fibonacci(n - 1) + memo_fibonacci(n - 2)\n",
    "        print(f\"Computed fibonacci({n}) = {memo[n]} and stored in memo.\")\n",
    "    else:\n",
    "        print(f\"Retrieved fibonacci({n}) = {memo[n]} from memo.\")\n",
    "    return memo[n]\n",
    "\n",
    "x = 10\n",
    "result = memo_fibonacci(x)\n",
    "print(f\"Final result: fibonacci({x}) = {result}\")\n"
   ]
  },
  {
   "cell_type": "markdown",
   "id": "8e3f6572",
   "metadata": {
    "id": "8e3f6572"
   },
   "source": [
    "##### Question: \n",
    "Explain the difference of using the recursion from dynamic programming using the given sample codes to solve the same problem"
   ]
  },
  {
   "cell_type": "markdown",
   "id": "5037b2ab-0463-4edd-8613-eb5a25b10891",
   "metadata": {},
   "source": [
    "It isn't noticeable when we just print the result immediately but if we add a logging mechanism to both solutions, the recursion method takes way more time and calculates way more than the dynamic programming solution. That is because the dynamic programming solution stores the result of a calculation so when the same equation appears again, it no longer does arithmetic, it only retrieves it from 'memo' whereas the recursion solution does not have a memory mechanism making it calculate the same equations over and over again making its efforts redundant. This is proven by the number of lines the recursive method produced compared to the dynamic programming solution. Both have the right approach when it comes to accuracy but the DP solution is proven to be way more efficient."
   ]
  },
  {
   "cell_type": "markdown",
   "id": "60074702",
   "metadata": {
    "id": "60074702"
   },
   "source": [
    "3. Create a sample program codes to simulate bottom-up dynamic programming"
   ]
  },
  {
   "cell_type": "code",
   "execution_count": 6,
   "id": "jnWdIB4E_ykT",
   "metadata": {
    "id": "jnWdIB4E_ykT"
   },
   "outputs": [
    {
     "name": "stdout",
     "output_type": "stream",
     "text": [
      "Initial table: [0, 1, 0, 0, 0, 0, 0, 0, 0, 0, 0]\n",
      "table[2] = table[1] + table[0] -> 1 + 0 = 1\n",
      "Updated table: [0, 1, 1, 0, 0, 0, 0, 0, 0, 0, 0]\n",
      "table[3] = table[2] + table[1] -> 1 + 1 = 2\n",
      "Updated table: [0, 1, 1, 2, 0, 0, 0, 0, 0, 0, 0]\n",
      "table[4] = table[3] + table[2] -> 2 + 1 = 3\n",
      "Updated table: [0, 1, 1, 2, 3, 0, 0, 0, 0, 0, 0]\n",
      "table[5] = table[4] + table[3] -> 3 + 2 = 5\n",
      "Updated table: [0, 1, 1, 2, 3, 5, 0, 0, 0, 0, 0]\n",
      "table[6] = table[5] + table[4] -> 5 + 3 = 8\n",
      "Updated table: [0, 1, 1, 2, 3, 5, 8, 0, 0, 0, 0]\n",
      "table[7] = table[6] + table[5] -> 8 + 5 = 13\n",
      "Updated table: [0, 1, 1, 2, 3, 5, 8, 13, 0, 0, 0]\n",
      "table[8] = table[7] + table[6] -> 13 + 8 = 21\n",
      "Updated table: [0, 1, 1, 2, 3, 5, 8, 13, 21, 0, 0]\n",
      "table[9] = table[8] + table[7] -> 21 + 13 = 34\n",
      "Updated table: [0, 1, 1, 2, 3, 5, 8, 13, 21, 34, 0]\n",
      "table[10] = table[9] + table[8] -> 34 + 21 = 55\n",
      "Updated table: [0, 1, 1, 2, 3, 5, 8, 13, 21, 34, 55]\n",
      "Final table: [0, 1, 1, 2, 3, 5, 8, 13, 21, 34, 55]\n",
      "Fibonacci(10) = 55\n"
     ]
    }
   ],
   "source": [
    "import time\n",
    "\n",
    "def fibonacci(n):\n",
    "    if n == 0:\n",
    "        return 0\n",
    "    elif n == 1:\n",
    "        return 1\n",
    "    else:\n",
    "        table = [0] * (n + 1)\n",
    "        table[0] = 0\n",
    "        table[1] = 1\n",
    "        print(f\"Initial table: {table}\")\n",
    "        for i in range(2, n + 1):\n",
    "            table[i] = table[i - 1] + table[i - 2]\n",
    "            print(f\"table[{i}] = table[{i - 1}] + table[{i - 2}] -> {table[i - 1]} + {table[i - 2]} = {table[i]}\")\n",
    "            print(f\"Updated table: {table}\")\n",
    "            time.sleep(1)  # Adding a delay of 1 second to observe the changes\n",
    "        print(f\"Final table: {table}\")\n",
    "        return table[n]\n",
    "\n",
    "# Example usage\n",
    "n = 10\n",
    "result = fibonacci(n)\n",
    "print(f\"Fibonacci({n}) = {result}\")\n"
   ]
  },
  {
   "cell_type": "markdown",
   "id": "e629eb89",
   "metadata": {
    "id": "e629eb89"
   },
   "source": [
    "4. Create a sample program codes that simulate tops-down dynamic programming"
   ]
  },
  {
   "cell_type": "code",
   "execution_count": 7,
   "id": "MeqADWfI_zTC",
   "metadata": {
    "id": "MeqADWfI_zTC"
   },
   "outputs": [
    {
     "name": "stdout",
     "output_type": "stream",
     "text": [
      "Calculating fibonacci(10)\n",
      "Calculating fibonacci(9)\n",
      "Calculating fibonacci(8)\n",
      "Calculating fibonacci(7)\n",
      "Calculating fibonacci(6)\n",
      "Calculating fibonacci(5)\n",
      "Calculating fibonacci(4)\n",
      "Calculating fibonacci(3)\n",
      "Calculating fibonacci(2)\n",
      "Computed fibonacci(2) = 1 and stored in memo.\n",
      "Computed fibonacci(3) = 2 and stored in memo.\n",
      "Retrieved fibonacci(2) = 1 from memo.\n",
      "Computed fibonacci(4) = 3 and stored in memo.\n",
      "Retrieved fibonacci(3) = 2 from memo.\n",
      "Computed fibonacci(5) = 5 and stored in memo.\n",
      "Retrieved fibonacci(4) = 3 from memo.\n",
      "Computed fibonacci(6) = 8 and stored in memo.\n",
      "Retrieved fibonacci(5) = 5 from memo.\n",
      "Computed fibonacci(7) = 13 and stored in memo.\n",
      "Retrieved fibonacci(6) = 8 from memo.\n",
      "Computed fibonacci(8) = 21 and stored in memo.\n",
      "Retrieved fibonacci(7) = 13 from memo.\n",
      "Computed fibonacci(9) = 34 and stored in memo.\n",
      "Retrieved fibonacci(8) = 21 from memo.\n",
      "Computed fibonacci(10) = 55 and stored in memo.\n",
      "Final result: fibonacci(10) = 55\n"
     ]
    }
   ],
   "source": [
    "import time\n",
    "\n",
    "memo = {}\n",
    "\n",
    "def memo_fibonacci(n):\n",
    "    if n <= 1:\n",
    "        return n\n",
    "    if n not in memo:\n",
    "        print(f\"Calculating fibonacci({n})\")\n",
    "        time.sleep(0.2)\n",
    "        memo[n] = memo_fibonacci(n - 1) + memo_fibonacci(n - 2)\n",
    "        print(f\"Computed fibonacci({n}) = {memo[n]} and stored in memo.\")\n",
    "    else:\n",
    "        print(f\"Retrieved fibonacci({n}) = {memo[n]} from memo.\")\n",
    "    return memo[n]\n",
    "\n",
    "x = 10\n",
    "result = memo_fibonacci(x)\n",
    "print(f\"Final result: fibonacci({x}) = {result}\")\n"
   ]
  },
  {
   "cell_type": "markdown",
   "id": "c2e2434c",
   "metadata": {
    "id": "c2e2434c"
   },
   "source": [
    "#### Question:\n",
    " Explain the difference between bottom-up from top-down dynamic programming using the given sample codes"
   ]
  },
  {
   "cell_type": "markdown",
   "id": "ac97e063",
   "metadata": {
    "id": "ac97e063"
   },
   "source": [
    "\n",
    "\n",
    "Top-down DP starts from the top as it calculates fib(20) and will iterate 20 times because 20 is the input value. It still involves recursion within the function but whenever a result is produced, it stores the result and the function retrieves it when it needs it. When we printed the process of how a pure recursive function calculates the fibonacci sequence, it produced 177 lines, most of which involves the function calculating the same equation over and over again. For Top-down DP, it reduced the amount of calculations it had to do because it stored the previous results \n",
    "\n",
    "Bottom-up DP involves iteration rather than recursion. From the name itself, it starts from the bottom-up, appending values from the list (table) starting at index 2 until it reaches the end which is 'n' or the input value, hence why the list(table) has 20 items initialized. Just like Top-Down, it will store the results by appending it to where the pointer is and once it appends the value it moves on to the next index. The bottom up implementation produced 41 lines featuring an output of the fibonacci sequence as well which is also significantly better than the pure recursion method.\n",
    "\n",
    "\n",
    "\n"
   ]
  },
  {
   "cell_type": "markdown",
   "id": "f7a5bfbd",
   "metadata": {
    "id": "f7a5bfbd"
   },
   "source": [
    "0/1 Knapsack Problem\n",
    "\n",
    "* Create three different techniques to solve knapsacks problem\n",
    "1. Recursion\n",
    "2. Dynamic Programming\n",
    "3. Memoization"
   ]
  },
  {
   "cell_type": "code",
   "execution_count": 14,
   "id": "15SVHF85_1Ji",
   "metadata": {
    "id": "15SVHF85_1Ji"
   },
   "outputs": [
    {
     "name": "stdout",
     "output_type": "stream",
     "text": [
      "Max Val: 220\n"
     ]
    }
   ],
   "source": [
    "#sample code for knapsack problem using recursion\n",
    "def rec_knapSack(w, wt, val, n):\n",
    "\n",
    "  #base case\n",
    "  #defined as nth item is empty;\n",
    "  #or the capacity w is 0\n",
    "  if n == 0 or w == 0:\n",
    "    return 0\n",
    "\n",
    "  #if weight of the nth item is more than\n",
    "  #the capacity W, then this item cannot be included\n",
    "  #as part of the optimal solution\n",
    "  if(wt[n-1] > w):\n",
    "    return rec_knapSack(w, wt, val, n-1)\n",
    "\n",
    "  #return the maximum of the two cases:\n",
    "  # (1) include the nth item\n",
    "  # (2) don't include the nth item\n",
    "  else:\n",
    "    return max(\n",
    "        val[n-1] + rec_knapSack(\n",
    "            w-wt[n-1], wt, val, n-1),\n",
    "            rec_knapSack(w, wt, val, n-1)\n",
    "    )\n",
    "\n",
    "#To test:\n",
    "val = [60, 100, 120] #values for the items\n",
    "wt = [10, 20, 30] #weight of the items\n",
    "w = 50 #knapsack weight capacity\n",
    "n = len(val) #number of items\n",
    "\n",
    "resss=rec_knapSack(w, wt, val, n)\n",
    "print(\"Max Val:\",resss)"
   ]
  },
  {
   "cell_type": "code",
   "execution_count": 16,
   "id": "A8OU1sUJ_1ES",
   "metadata": {
    "id": "A8OU1sUJ_1ES"
   },
   "outputs": [
    {
     "name": "stdout",
     "output_type": "stream",
     "text": [
      "Max Val: 220\n"
     ]
    }
   ],
   "source": [
    "#Dynamic Programming for the Knapsack Problem\n",
    "def DP_knapSack(w, wt, val, n):\n",
    "  #create the table\n",
    "  table = [[0 for x in range(w+1)] for x in range (n+1)]\n",
    "\n",
    "  #populate the table in a bottom-up approach\n",
    "  for i in range(n+1):\n",
    "    for w in range(w+1):\n",
    "      if i == 0 or w == 0:\n",
    "        table[i][w] = 0\n",
    "      elif wt[i-1] <= w:\n",
    "        table[i][w] = max(val[i-1] + table[i-1][w-wt[i-1]],\n",
    "                          table[i-1][w])\n",
    "  return table[n][w]\n",
    "\n",
    "#To test:\n",
    "val = [60, 100, 120]\n",
    "wt = [10, 20, 30]\n",
    "w = 50\n",
    "n = len(val)\n",
    "\n",
    "resss=DP_knapSack(w, wt, val, n)\n",
    "print(\"Max Val:\",resss)"
   ]
  },
  {
   "cell_type": "code",
   "execution_count": 19,
   "id": "VgwTX-XT_0_h",
   "metadata": {
    "id": "VgwTX-XT_0_h"
   },
   "outputs": [
    {
     "name": "stdout",
     "output_type": "stream",
     "text": [
      "Max Val: 220\n"
     ]
    }
   ],
   "source": [
    "#Sample for top-down DP approach (memoization)\n",
    "#initialize the list of items\n",
    "val = [60, 100, 120]\n",
    "wt = [10, 20, 30]\n",
    "w = 50\n",
    "n = len(val)\n",
    "\n",
    "#initialize the container for the values that have to be stored\n",
    "#values are initialized to -1\n",
    "calc =[[-1 for i in range(w+1)] for j in range(n+1)]\n",
    "\n",
    "\n",
    "def mem_knapSack(wt, val, w, n):\n",
    "  #base conditions\n",
    "  if n == 0 or w == 0:\n",
    "    return 0\n",
    "  if calc[n][w] != -1:\n",
    "    return calc[n][w]\n",
    "  \n",
    "  #compute for the other cases\n",
    "  if wt[n-1] <= w:\n",
    "    calc[n][w] = max(val[n-1] + mem_knapSack(wt, val, w-wt[n-1], n-1),\n",
    "                     mem_knapSack(wt, val, w, n-1))\n",
    "    return calc[n][w]\n",
    "  elif wt[n-1] > w:\n",
    "    calc[n][w] = mem_knapSack(wt, val, w, n-1)\n",
    "    return calc[n][w]\n",
    "\n",
    "r=mem_knapSack(wt, val, w, n)\n",
    "print(\"Max Val:\",r)"
   ]
  },
  {
   "cell_type": "markdown",
   "id": "0462053d",
   "metadata": {
    "id": "0462053d"
   },
   "source": [
    "Task 1: Modify the three techniques to include additional criterion in the knapsack problems"
   ]
  },
  {
   "cell_type": "code",
   "execution_count": 34,
   "id": "ed2f6186",
   "metadata": {
    "id": "ed2f6186"
   },
   "outputs": [
    {
     "name": "stdout",
     "output_type": "stream",
     "text": [
      "Maximum value (pure recursion): 2500\n"
     ]
    }
   ],
   "source": [
    "def knapsack_pure_recursion(items, max_weight, max_volume, n):\n",
    "    if n == 0 or max_weight == 0 or max_volume == 0:\n",
    "        return 0\n",
    "\n",
    "    value, weight, volume = items[n - 1]\n",
    "\n",
    "    if weight > max_weight or volume > max_volume:\n",
    "        return knapsack_pure_recursion(items, max_weight, max_volume, n - 1)\n",
    "\n",
    "    return max(\n",
    "        knapsack_pure_recursion(items, max_weight, max_volume, n - 1),\n",
    "        value + knapsack_pure_recursion(items, max_weight - weight, max_volume - volume, n - 1)\n",
    "    )\n",
    "\n",
    "# Example usage\n",
    "items = [\n",
    "    # Box of Nike Shoes\n",
    "    (100, 1, 3),\n",
    "    # Laptop\n",
    "    (800, 3, 5),\n",
    "    # Spam Cans (12x)\n",
    "    (50, 5, 4),\n",
    "    # Chocolate Pack 1\n",
    "    (30, 1, 1),\n",
    "    # Chocolate Pack 2\n",
    "    (40, 1, 1),\n",
    "    # Campbell Pack\n",
    "    (25, 1, 1),\n",
    "    # German Franks Pack\n",
    "    (35, 2, 2),\n",
    "    # Smartphone\n",
    "    (600, 0, 0),\n",
    "    # Headphones\n",
    "    (150, 0, 1),\n",
    "    # Sweater\n",
    "    (60, 1, 2),\n",
    "    # Perfume Bottle\n",
    "    (70, 0, 0),\n",
    "    # Towel\n",
    "    (20, 1, 1),\n",
    "    # Sneakers\n",
    "    (80, 1, 2),\n",
    "    # Book\n",
    "    (20, 1, 1),\n",
    "    # Jacket\n",
    "    (100, 1, 3),\n",
    "    # Watch\n",
    "    (200, 0, 0),\n",
    "    # Cosmetics Kit\n",
    "    (50, 0, 1),\n",
    "    # Sports Drink Pack (6x)\n",
    "    (30, 3, 3),\n",
    "    # Bag of Rice (2 kg)\n",
    "    (10, 2, 2),\n",
    "    # Tea Set\n",
    "    (40, 1, 2)\n",
    "]\n",
    "max_weight = 23\n",
    "max_volume = 99\n",
    "n = len(items)\n",
    "\n",
    "print(\"Maximum value (pure recursion):\", knapsack_pure_recursion(items, max_weight, max_volume, n))\n"
   ]
  },
  {
   "cell_type": "code",
   "execution_count": 32,
   "id": "1d0612b9-ebf1-41f6-ad5b-87372a8b8b67",
   "metadata": {
    "tags": []
   },
   "outputs": [
    {
     "name": "stdout",
     "output_type": "stream",
     "text": [
      "Maximum value (top-down): 2500\n"
     ]
    }
   ],
   "source": [
    "def knapsack_top_down(items, max_weight, max_volume, n, memo):\n",
    "    if n == 0 or max_weight == 0 or max_volume == 0:\n",
    "        return 0\n",
    "\n",
    "    if memo[n][max_weight][max_volume] != -1:\n",
    "        return memo[n][max_weight][max_volume]\n",
    "\n",
    "    value, weight, volume = items[n - 1]\n",
    "\n",
    "    if weight > max_weight or volume > max_volume:\n",
    "        memo[n][max_weight][max_volume] = knapsack_top_down(items, max_weight, max_volume, n - 1, memo)\n",
    "    else:\n",
    "        memo[n][max_weight][max_volume] = max(\n",
    "            knapsack_top_down(items, max_weight, max_volume, n - 1, memo),\n",
    "            value + knapsack_top_down(items, max_weight - weight, max_volume - volume, n - 1, memo)\n",
    "        )\n",
    "\n",
    "    return memo[n][max_weight][max_volume]\n",
    "\n",
    "# Example usage\n",
    "#\n",
    "# items = [(value, weight, volume), ...]\n",
    "items = [\n",
    "    # Box of Nike Shoes\n",
    "    (100, 1, 3),\n",
    "    # Laptop\n",
    "    (800, 3, 5),\n",
    "    # Spam Cans (12x)\n",
    "    (50, 5, 4),\n",
    "    # Chocolate Pack 1\n",
    "    (30, 1, 1),\n",
    "    # Chocolate Pack 2\n",
    "    (40, 1, 1),\n",
    "    # Campbell Pack\n",
    "    (25, 1, 1),\n",
    "    # German Franks Pack\n",
    "    (35, 2, 2),\n",
    "    # Smartphone\n",
    "    (600, 0, 0),\n",
    "    # Headphones\n",
    "    (150, 0, 1),\n",
    "    # Sweater\n",
    "    (60, 1, 2),\n",
    "    # Perfume Bottle\n",
    "    (70, 0, 0),\n",
    "    # Towel\n",
    "    (20, 1, 1),\n",
    "    # Sneakers\n",
    "    (80, 1, 2),\n",
    "    # Book\n",
    "    (20, 1, 1),\n",
    "    # Jacket\n",
    "    (100, 1, 3),\n",
    "    # Watch\n",
    "    (200, 0, 0),\n",
    "    # Cosmetics Kit\n",
    "    (50, 0, 1),\n",
    "    # Sports Drink Pack (6x)\n",
    "    (30, 3, 3),\n",
    "    # Bag of Rice (2 kg)\n",
    "    (10, 2, 2),\n",
    "    # Tea Set\n",
    "    (40, 1, 2)\n",
    "]\n",
    "\n",
    "max_weight = 23\n",
    "max_volume = 99\n",
    "n = len(items)\n",
    "memo = [[[-1 for _ in range(max_volume + 1)] for _ in range(max_weight + 1)] for _ in range(n + 1)]\n",
    "\n",
    "print(\"Maximum value (top-down):\", knapsack_top_down(items, max_weight, max_volume, n, memo))\n"
   ]
  },
  {
   "cell_type": "code",
   "execution_count": 33,
   "id": "0f7cc4bb-c162-428c-88e3-c39d9591987b",
   "metadata": {
    "tags": []
   },
   "outputs": [
    {
     "name": "stdout",
     "output_type": "stream",
     "text": [
      "Maximum value (bottom-up): 2500\n"
     ]
    }
   ],
   "source": [
    "def knapsack_bottom_up(items, max_weight, max_volume):\n",
    "    n = len(items)\n",
    "    dp = [[[0 for _ in range(max_volume + 1)] for _ in range(max_weight + 1)] for _ in range(n + 1)]\n",
    "\n",
    "    for i in range(1, n + 1):\n",
    "        value, weight, volume = items[i - 1]\n",
    "        for w in range(max_weight + 1):\n",
    "            for v in range(max_volume + 1):\n",
    "                if weight <= w and volume <= v:\n",
    "                    dp[i][w][v] = max(dp[i - 1][w][v], dp[i - 1][w - weight][v - volume] + value)\n",
    "                else:\n",
    "                    dp[i][w][v] = dp[i - 1][w][v]\n",
    "\n",
    "    return dp[n][max_weight][max_volume]\n",
    "\n",
    "# Example usage\n",
    "items = [\n",
    "    # Box of Nike Shoes\n",
    "    (100, 1, 3),\n",
    "    # Laptop\n",
    "    (800, 3, 5),\n",
    "    # Spam Cans (12x)\n",
    "    (50, 5, 4),\n",
    "    # Chocolate Pack 1\n",
    "    (30, 1, 1),\n",
    "    # Chocolate Pack 2\n",
    "    (40, 1, 1),\n",
    "    # Campbell Pack\n",
    "    (25, 1, 1),\n",
    "    # German Franks Pack\n",
    "    (35, 2, 2),\n",
    "    # Smartphone\n",
    "    (600, 0, 0),\n",
    "    # Headphones\n",
    "    (150, 0, 1),\n",
    "    # Sweater\n",
    "    (60, 1, 2),\n",
    "    # Perfume Bottle\n",
    "    (70, 0, 0),\n",
    "    # Towel\n",
    "    (20, 1, 1),\n",
    "    # Sneakers\n",
    "    (80, 1, 2),\n",
    "    # Book\n",
    "    (20, 1, 1),\n",
    "    # Jacket\n",
    "    (100, 1, 3),\n",
    "    # Watch\n",
    "    (200, 0, 0),\n",
    "    # Cosmetics Kit\n",
    "    (50, 0, 1),\n",
    "    # Sports Drink Pack (6x)\n",
    "    (30, 3, 3),\n",
    "    # Bag of Rice (2 kg)\n",
    "    (10, 2, 2),\n",
    "    # Tea Set\n",
    "    (40, 1, 2)\n",
    "]\n",
    "max_weight = 23\n",
    "max_volume = 99\n",
    "\n",
    "print(\"Maximum value (bottom-up):\", knapsack_bottom_up(items, max_weight, max_volume))\n"
   ]
  },
  {
   "cell_type": "markdown",
   "id": "d97e864e",
   "metadata": {
    "id": "d97e864e"
   },
   "source": [
    "Fibonacci Numbers"
   ]
  },
  {
   "cell_type": "code",
   "execution_count": 28,
   "id": "HoqkUdvj_2ZZ",
   "metadata": {
    "id": "HoqkUdvj_2ZZ"
   },
   "outputs": [
    {
     "data": {
      "text/plain": [
       "55"
      ]
     },
     "execution_count": 28,
     "metadata": {},
     "output_type": "execute_result"
    }
   ],
   "source": [
    "def fibonacci(n):\n",
    "    if n <= 1:\n",
    "        return n\n",
    "    res=fibonacci(n-1)+fibonacci(n-2)\n",
    "    return res\n",
    "\n",
    "fibonacci(10)"
   ]
  },
  {
   "cell_type": "markdown",
   "id": "f44e88aa",
   "metadata": {
    "id": "f44e88aa"
   },
   "source": [
    "Task 2: Create a sample program that find the nth number of Fibonacci Series using Dynamic Programming"
   ]
  },
  {
   "cell_type": "code",
   "execution_count": 29,
   "id": "745871be",
   "metadata": {
    "id": "745871be"
   },
   "outputs": [
    {
     "name": "stdout",
     "output_type": "stream",
     "text": [
      "Memo result: 55\n",
      "Tab result: 55\n"
     ]
    }
   ],
   "source": [
    "def FT(n):\n",
    "    if n == 0:\n",
    "        return 0\n",
    "    if n == 1:\n",
    "        return 1\n",
    "    # table for the tabulation\n",
    "    table = [None] * (n + 1)\n",
    "    table[0] = 0\n",
    "    table[1] = 1\n",
    "    for i in range(2, n + 1):\n",
    "        table[i] = table[i - 1] + table[i - 2]\n",
    "\n",
    "    # return the value for n from the table\n",
    "    return table[n]\n",
    "\n",
    "memoi = {}\n",
    "def FM(n):\n",
    "    if n == 0:\n",
    "        return 0\n",
    "    if n == 1:\n",
    "        return 1\n",
    "    elif n in memoi:\n",
    "        return memoi[n]\n",
    "    else:\n",
    "        memoi[n] = fibMEM(n - 1) + fibMEM(n - 2)\n",
    "        return memoi[n]\n",
    "print(\"Memo result:\",FM(10))\n",
    "print(\"Tab result:\",FT(10))\n"
   ]
  },
  {
   "cell_type": "markdown",
   "id": "070ddd75",
   "metadata": {
    "id": "070ddd75"
   },
   "source": [
    "#### Supplementary Problem:\n",
    "* Choose a real-life problem\n",
    "* Use recursion and dynamic programming to solve the problem"
   ]
  },
  {
   "cell_type": "markdown",
   "id": "1aaf3e95-1184-4637-a1cc-b42d15856d5a",
   "metadata": {},
   "source": []
  },
  {
   "cell_type": "code",
   "execution_count": null,
   "id": "86eef507",
   "metadata": {
    "id": "86eef507"
   },
   "outputs": [],
   "source": [
    "#type your code here for recursion programming solution"
   ]
  },
  {
   "cell_type": "code",
   "execution_count": null,
   "id": "73b071b6",
   "metadata": {
    "id": "73b071b6"
   },
   "outputs": [],
   "source": [
    "#type your code here for dynamic programming solution"
   ]
  },
  {
   "cell_type": "markdown",
   "id": "bb0ed6a9",
   "metadata": {
    "id": "bb0ed6a9"
   },
   "source": [
    "#### Conclusion"
   ]
  },
  {
   "cell_type": "code",
   "execution_count": null,
   "id": "9627d18c",
   "metadata": {
    "id": "9627d18c"
   },
   "outputs": [],
   "source": [
    "#type your answer here"
   ]
  }
 ],
 "metadata": {
  "colab": {
   "provenance": []
  },
  "kernelspec": {
   "display_name": "Python 3 (ipykernel)",
   "language": "python",
   "name": "python3"
  },
  "language_info": {
   "codemirror_mode": {
    "name": "ipython",
    "version": 3
   },
   "file_extension": ".py",
   "mimetype": "text/x-python",
   "name": "python",
   "nbconvert_exporter": "python",
   "pygments_lexer": "ipython3",
   "version": "3.11.5"
  }
 },
 "nbformat": 4,
 "nbformat_minor": 5
}
