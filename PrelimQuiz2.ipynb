#Maximum Value Contiguous Subsequence.
#Given a sequence of n real numbers A(1) ... A(n), determine a contiguous subsequence A(i) ... A(j) for which the sum of elements in the subsequence is maximized.

n=[1,3,5,7,2,4] #expected is 1,5,7
def maxvcs(n):
    #1. determine each node
     
